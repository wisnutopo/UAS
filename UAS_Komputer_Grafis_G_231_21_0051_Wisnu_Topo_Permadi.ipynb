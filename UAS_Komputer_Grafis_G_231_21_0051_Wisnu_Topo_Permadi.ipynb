{
  "nbformat": 4,
  "nbformat_minor": 0,
  "metadata": {
    "colab": {
      "provenance": []
    },
    "kernelspec": {
      "name": "python3",
      "display_name": "Python 3"
    },
    "language_info": {
      "name": "python"
    }
  },
  "cells": [
    {
      "cell_type": "code",
      "execution_count": null,
      "metadata": {
        "id": "IiFoIB4qBFYs"
      },
      "outputs": [],
      "source": [
        "import numpy as np\n",
        "import pandas as pd\n",
        "import matplotlib.pyplot as plt\n",
        "import seaborn as sns\n",
        "%matplotlib inline\n"
      ]
    },
    {
      "cell_type": "code",
      "source": [
        "df = pd.read_csv(\"file stock (2).csv\")\n",
        "df.head()\n"
      ],
      "metadata": {
        "colab": {
          "base_uri": "https://localhost:8080/",
          "height": 250
        },
        "id": "QD8CQdvgBvNc",
        "outputId": "e1e28ffb-ecd3-4631-b6ea-4c108f528fca"
      },
      "execution_count": null,
      "outputs": [
        {
          "output_type": "execute_result",
          "data": {
            "text/plain": [
              "                   Stock Name Symbol  Shares Purchase Price  Cost Basis  \\\n",
              "0                       Apple   AAPL     100         $90.00   $9,000.00   \n",
              "1                   Microsoft   MSFT     200         $32.00   $6,400.00   \n",
              "2                  Salesforce    CRM     150         $25.00   $3,750.00   \n",
              "3                      Oracle   ORCL     250         $50.00  $12,500.00   \n",
              "4  Hewlett Packard Enterprice    HPE     500         $18.00   $9,000.00   \n",
              "\n",
              "  current Price Market Value   Gain/Loss Dividend/Share  Annual Yield  \n",
              "0       $144.13   $14,413.27  $14,269.14          $2.28          1.58  \n",
              "1        $65.57   $13,114.14  $13,048.57          $1.56          2.38  \n",
              "2        $82.57   $12,385.50  $12,302.93          $0.00          0.00  \n",
              "3        $44.56   $11,138.75  $11,094.20          $0.64          1.44  \n",
              "4        $17.69    $8,842.50   $8,824.82          $0.26          1.47  "
            ],
            "text/html": [
              "\n",
              "  <div id=\"df-16b92bd5-883b-41ef-b5f9-43c7c75f881e\">\n",
              "    <div class=\"colab-df-container\">\n",
              "      <div>\n",
              "<style scoped>\n",
              "    .dataframe tbody tr th:only-of-type {\n",
              "        vertical-align: middle;\n",
              "    }\n",
              "\n",
              "    .dataframe tbody tr th {\n",
              "        vertical-align: top;\n",
              "    }\n",
              "\n",
              "    .dataframe thead th {\n",
              "        text-align: right;\n",
              "    }\n",
              "</style>\n",
              "<table border=\"1\" class=\"dataframe\">\n",
              "  <thead>\n",
              "    <tr style=\"text-align: right;\">\n",
              "      <th></th>\n",
              "      <th>Stock Name</th>\n",
              "      <th>Symbol</th>\n",
              "      <th>Shares</th>\n",
              "      <th>Purchase Price</th>\n",
              "      <th>Cost Basis</th>\n",
              "      <th>current Price</th>\n",
              "      <th>Market Value</th>\n",
              "      <th>Gain/Loss</th>\n",
              "      <th>Dividend/Share</th>\n",
              "      <th>Annual Yield</th>\n",
              "    </tr>\n",
              "  </thead>\n",
              "  <tbody>\n",
              "    <tr>\n",
              "      <th>0</th>\n",
              "      <td>Apple</td>\n",
              "      <td>AAPL</td>\n",
              "      <td>100</td>\n",
              "      <td>$90.00</td>\n",
              "      <td>$9,000.00</td>\n",
              "      <td>$144.13</td>\n",
              "      <td>$14,413.27</td>\n",
              "      <td>$14,269.14</td>\n",
              "      <td>$2.28</td>\n",
              "      <td>1.58</td>\n",
              "    </tr>\n",
              "    <tr>\n",
              "      <th>1</th>\n",
              "      <td>Microsoft</td>\n",
              "      <td>MSFT</td>\n",
              "      <td>200</td>\n",
              "      <td>$32.00</td>\n",
              "      <td>$6,400.00</td>\n",
              "      <td>$65.57</td>\n",
              "      <td>$13,114.14</td>\n",
              "      <td>$13,048.57</td>\n",
              "      <td>$1.56</td>\n",
              "      <td>2.38</td>\n",
              "    </tr>\n",
              "    <tr>\n",
              "      <th>2</th>\n",
              "      <td>Salesforce</td>\n",
              "      <td>CRM</td>\n",
              "      <td>150</td>\n",
              "      <td>$25.00</td>\n",
              "      <td>$3,750.00</td>\n",
              "      <td>$82.57</td>\n",
              "      <td>$12,385.50</td>\n",
              "      <td>$12,302.93</td>\n",
              "      <td>$0.00</td>\n",
              "      <td>0.00</td>\n",
              "    </tr>\n",
              "    <tr>\n",
              "      <th>3</th>\n",
              "      <td>Oracle</td>\n",
              "      <td>ORCL</td>\n",
              "      <td>250</td>\n",
              "      <td>$50.00</td>\n",
              "      <td>$12,500.00</td>\n",
              "      <td>$44.56</td>\n",
              "      <td>$11,138.75</td>\n",
              "      <td>$11,094.20</td>\n",
              "      <td>$0.64</td>\n",
              "      <td>1.44</td>\n",
              "    </tr>\n",
              "    <tr>\n",
              "      <th>4</th>\n",
              "      <td>Hewlett Packard Enterprice</td>\n",
              "      <td>HPE</td>\n",
              "      <td>500</td>\n",
              "      <td>$18.00</td>\n",
              "      <td>$9,000.00</td>\n",
              "      <td>$17.69</td>\n",
              "      <td>$8,842.50</td>\n",
              "      <td>$8,824.82</td>\n",
              "      <td>$0.26</td>\n",
              "      <td>1.47</td>\n",
              "    </tr>\n",
              "  </tbody>\n",
              "</table>\n",
              "</div>\n",
              "      <button class=\"colab-df-convert\" onclick=\"convertToInteractive('df-16b92bd5-883b-41ef-b5f9-43c7c75f881e')\"\n",
              "              title=\"Convert this dataframe to an interactive table.\"\n",
              "              style=\"display:none;\">\n",
              "        \n",
              "  <svg xmlns=\"http://www.w3.org/2000/svg\" height=\"24px\"viewBox=\"0 0 24 24\"\n",
              "       width=\"24px\">\n",
              "    <path d=\"M0 0h24v24H0V0z\" fill=\"none\"/>\n",
              "    <path d=\"M18.56 5.44l.94 2.06.94-2.06 2.06-.94-2.06-.94-.94-2.06-.94 2.06-2.06.94zm-11 1L8.5 8.5l.94-2.06 2.06-.94-2.06-.94L8.5 2.5l-.94 2.06-2.06.94zm10 10l.94 2.06.94-2.06 2.06-.94-2.06-.94-.94-2.06-.94 2.06-2.06.94z\"/><path d=\"M17.41 7.96l-1.37-1.37c-.4-.4-.92-.59-1.43-.59-.52 0-1.04.2-1.43.59L10.3 9.45l-7.72 7.72c-.78.78-.78 2.05 0 2.83L4 21.41c.39.39.9.59 1.41.59.51 0 1.02-.2 1.41-.59l7.78-7.78 2.81-2.81c.8-.78.8-2.07 0-2.86zM5.41 20L4 18.59l7.72-7.72 1.47 1.35L5.41 20z\"/>\n",
              "  </svg>\n",
              "      </button>\n",
              "      \n",
              "  <style>\n",
              "    .colab-df-container {\n",
              "      display:flex;\n",
              "      flex-wrap:wrap;\n",
              "      gap: 12px;\n",
              "    }\n",
              "\n",
              "    .colab-df-convert {\n",
              "      background-color: #E8F0FE;\n",
              "      border: none;\n",
              "      border-radius: 50%;\n",
              "      cursor: pointer;\n",
              "      display: none;\n",
              "      fill: #1967D2;\n",
              "      height: 32px;\n",
              "      padding: 0 0 0 0;\n",
              "      width: 32px;\n",
              "    }\n",
              "\n",
              "    .colab-df-convert:hover {\n",
              "      background-color: #E2EBFA;\n",
              "      box-shadow: 0px 1px 2px rgba(60, 64, 67, 0.3), 0px 1px 3px 1px rgba(60, 64, 67, 0.15);\n",
              "      fill: #174EA6;\n",
              "    }\n",
              "\n",
              "    [theme=dark] .colab-df-convert {\n",
              "      background-color: #3B4455;\n",
              "      fill: #D2E3FC;\n",
              "    }\n",
              "\n",
              "    [theme=dark] .colab-df-convert:hover {\n",
              "      background-color: #434B5C;\n",
              "      box-shadow: 0px 1px 3px 1px rgba(0, 0, 0, 0.15);\n",
              "      filter: drop-shadow(0px 1px 2px rgba(0, 0, 0, 0.3));\n",
              "      fill: #FFFFFF;\n",
              "    }\n",
              "  </style>\n",
              "\n",
              "      <script>\n",
              "        const buttonEl =\n",
              "          document.querySelector('#df-16b92bd5-883b-41ef-b5f9-43c7c75f881e button.colab-df-convert');\n",
              "        buttonEl.style.display =\n",
              "          google.colab.kernel.accessAllowed ? 'block' : 'none';\n",
              "\n",
              "        async function convertToInteractive(key) {\n",
              "          const element = document.querySelector('#df-16b92bd5-883b-41ef-b5f9-43c7c75f881e');\n",
              "          const dataTable =\n",
              "            await google.colab.kernel.invokeFunction('convertToInteractive',\n",
              "                                                     [key], {});\n",
              "          if (!dataTable) return;\n",
              "\n",
              "          const docLinkHtml = 'Like what you see? Visit the ' +\n",
              "            '<a target=\"_blank\" href=https://colab.research.google.com/notebooks/data_table.ipynb>data table notebook</a>'\n",
              "            + ' to learn more about interactive tables.';\n",
              "          element.innerHTML = '';\n",
              "          dataTable['output_type'] = 'display_data';\n",
              "          await google.colab.output.renderOutput(dataTable, element);\n",
              "          const docLink = document.createElement('div');\n",
              "          docLink.innerHTML = docLinkHtml;\n",
              "          element.appendChild(docLink);\n",
              "        }\n",
              "      </script>\n",
              "    </div>\n",
              "  </div>\n",
              "  "
            ]
          },
          "metadata": {},
          "execution_count": 18
        }
      ]
    },
    {
      "cell_type": "code",
      "source": [
        "df.columns"
      ],
      "metadata": {
        "colab": {
          "base_uri": "https://localhost:8080/"
        },
        "id": "tezmk9XNCLpn",
        "outputId": "aa102f70-f68d-44c6-81cb-33db69a77160"
      },
      "execution_count": null,
      "outputs": [
        {
          "output_type": "execute_result",
          "data": {
            "text/plain": [
              "Index(['Stock Name', 'Symbol', 'Shares', 'Purchase Price', 'Cost Basis',\n",
              "       'current Price', 'Market Value', 'Gain/Loss', 'Dividend/Share',\n",
              "       'Annual Yield'],\n",
              "      dtype='object')"
            ]
          },
          "metadata": {},
          "execution_count": 19
        }
      ]
    },
    {
      "cell_type": "code",
      "source": [
        "sns.pairplot(df)"
      ],
      "metadata": {
        "colab": {
          "base_uri": "https://localhost:8080/",
          "height": 531
        },
        "id": "zstnCAcwCVlU",
        "outputId": "2471f4d1-da4e-4900-cf37-74ae2d6ce5e5"
      },
      "execution_count": null,
      "outputs": [
        {
          "output_type": "execute_result",
          "data": {
            "text/plain": [
              "<seaborn.axisgrid.PairGrid at 0x7f7c5c16b9d0>"
            ]
          },
          "metadata": {},
          "execution_count": 20
        },
        {
          "output_type": "display_data",
          "data": {
            "text/plain": [
              "<Figure size 500x500 with 6 Axes>"
            ],
            "image/png": "[encoded data removed]"
          },
          "metadata": {}
        }
      ]
    },
    {
      "cell_type": "code",
      "source": [
        "import matplotlib.pyplot as plt\n",
        "\n",
        "# Data atribut Purchase Price, Current Price, dan Gain/Loss\n",
        "purchase_price = [90.00, 32.00, 25.00, 50.00, 18.00, 225.00, 22.00, 18.00, 65.00, 800.00, 95.00, 17.00, 45.00]\n",
        "current_price = [144.13, 65.57, 82.57, 44.56, 17.69, 833.36, 36.07, 33.24, 56.48, 897.64, 86.26, 141.64, 14.61]\n",
        "gain_loss = [14,269.14, 13,048.57, 12,302.93, 11,094.20, 8,824.82, 82,502.64, 7,176.94, 7,445.54, 10,391.40, 43,984.36, 8,539.74, 141,498.36, 7,287.94]\n",
        "\n",
        "# Membuat histogram untuk atribut Purchase Price\n",
        "plt.hist(purchase_price, bins=5, color='blue', alpha=0.7)\n",
        "plt.xlabel('Purchase Price')\n",
        "plt.ylabel('Frequency')\n",
        "plt.title('Histogram - Purchase Price')\n",
        "plt.show()\n",
        "\n",
        "# Membuat histogram untuk atribut Current Price\n",
        "plt.hist(current_price, bins=5, color='green', alpha=0.7)\n",
        "plt.xlabel('Current Price')\n",
        "plt.ylabel('Frequency')\n",
        "plt.title('Histogram - Current Price')\n",
        "plt.show()\n",
        "\n",
        "# Membuat histogram untuk atribut Gain/Loss\n",
        "plt.hist(gain_loss, bins=5, color='orange', alpha=0.7)\n",
        "plt.xlabel('Gain/Loss')\n",
        "plt.ylabel('Frequency')\n",
        "plt.title('Histogram - Gain/Loss')\n",
        "plt.show()\n"
      ],
      "metadata": {
        "colab": {
          "base_uri": "https://localhost:8080/",
          "height": 1000
        },
        "id": "qwd4iizEIQDa",
        "outputId": "016f8bfc-814c-4ca5-99fe-19fbd219a439"
      },
      "execution_count": null,
      "outputs": [
        {
          "output_type": "display_data",
          "data": {
            "text/plain": [
              "<Figure size 640x480 with 1 Axes>"
            ],
            "image/png": "[encoded data removed]"
          },
          "metadata": {}
        },
        {
          "output_type": "display_data",
          "data": {
            "text/plain": [
              "<Figure size 640x480 with 1 Axes>"
            ],
            "image/png": "[encoded data removed]"
          },
          "metadata": {}
        },
        {
          "output_type": "display_data",
          "data": {
            "text/plain": [
              "<Figure size 640x480 with 1 Axes>"
            ],
            "image/png": "[encoded data removed]"
          },
          "metadata": {}
        }
      ]
    },
    {
      "cell_type": "code",
      "source": [
        "import pandas as pd\n",
        "\n",
        "# Data yang berisi atribut \"Stock Name\", \"Symbol\", dan \"Dividen/Share\"\n",
        "data = pd.DataFrame({\n",
        "    \"Stock Name\": [\"Apple\", \"Microsoft\", \"Salesforce\", \"Oracle\", \"Hewlett Packard Enterprice\", \"Alphabet\", \"Intel\", \"Cisco\", \"Qualcomm\", \"Amazon\", \"Redhat\", \"Facebook\", \"Twitter\"],\n",
        "    \"Symbol\": [\"AAPL\", \"MSFT\", \"CRM\", \"ORCL\", \"HPE\", \"GOOG\", \"INTC\", \"CSCO\", \"QCOM\", \"AMZN\", \"RHT\", \"FB\", \"TWTR\"],\n",
        "    \"Dividen/Share\": [2.28, 1.56, 0.00, 0.64, 0.26, 0.00, 1.09, 1.16, 2.12, 0.00, 0.00, 0.00, 0.00]\n",
        "})\n",
        "\n",
        "# Urutkan data berdasarkan kolom \"Dividen/Share\" secara menurun\n",
        "sorted_data = data.sort_values(\"Dividen/Share\", ascending=False)\n",
        "\n",
        "# Ambil 5 baris pertama dari data yang diurutkan\n",
        "top_5_dividends = sorted_data.head(5)\n",
        "\n",
        "# Dapatkan nilai atribut \"Stock Name\" dan \"Symbol\" dari 5 baris tersebut\n",
        "top_5_stock_names = top_5_dividends[\"Stock Name\"]\n",
        "top_5_symbols = top_5_dividends[\"Symbol\"]\n",
        "\n",
        "# Tampilkan hasil\n",
        "for stock_name, symbol in zip(top_5_stock_names, top_5_symbols):\n",
        "    print(f\"Stock Name: {stock_name}, Symbol: {symbol}\")\n"
      ],
      "metadata": {
        "colab": {
          "base_uri": "https://localhost:8080/"
        },
        "id": "QcMyAdwuRfdy",
        "outputId": "fa48cd09-bcc9-4f16-e404-476dbb25152e"
      },
      "execution_count": null,
      "outputs": [
        {
          "output_type": "stream",
          "name": "stdout",
          "text": [
            "Stock Name: Apple, Symbol: AAPL\n",
            "Stock Name: Qualcomm, Symbol: QCOM\n",
            "Stock Name: Microsoft, Symbol: MSFT\n",
            "Stock Name: Cisco, Symbol: CSCO\n",
            "Stock Name: Intel, Symbol: INTC\n"
          ]
        }
      ]
    },
    {
      "cell_type": "code",
      "source": [
        "import pandas as pd\n"
      ],
      "metadata": {
        "id": "8PxsKfnJYAdt"
      },
      "execution_count": null,
      "outputs": []
    },
    {
      "cell_type": "code",
      "source": [
        "df = pd.read_csv('file stock (2).csv')  # Ganti 'nama_file.csv' dengan nama file yang berisi data Anda\n"
      ],
      "metadata": {
        "id": "a71mr6WfYNnI"
      },
      "execution_count": null,
      "outputs": []
    },
    {
      "cell_type": "code",
      "source": [
        "sorted_df = df.sort_values(by='Market Value', ascending=False)\n"
      ],
      "metadata": {
        "id": "TguRxhBOYb0M"
      },
      "execution_count": null,
      "outputs": []
    },
    {
      "cell_type": "code",
      "source": [
        "top_5 = sorted_df.head(5)\n"
      ],
      "metadata": {
        "id": "1bEhhZnAYiLB"
      },
      "execution_count": null,
      "outputs": []
    },
    {
      "cell_type": "code",
      "source": [
        "top_5_stock_name = top_5['Stock Name']\n",
        "top_5_symbol = top_5['Symbol']\n",
        "print(\"Top 5 Stock Name:\")\n",
        "print(top_5_stock_name)\n",
        "print(\"Top 5 Symbol:\")\n",
        "print(top_5_symbol)\n"
      ],
      "metadata": {
        "colab": {
          "base_uri": "https://localhost:8080/"
        },
        "id": "MRt8hssyYkl8",
        "outputId": "71379518-d2c2-4ec9-b3a5-19af4d3dc099"
      },
      "execution_count": null,
      "outputs": [
        {
          "output_type": "stream",
          "name": "stdout",
          "text": [
            "Top 5 Stock Name:\n",
            "5                       Alphabet\n",
            "4     Hewlett Packard Enterprice\n",
            "10                        Redhat\n",
            "7                          Cisco\n",
            "12                       Twitter\n",
            "Name: Stock Name, dtype: object\n",
            "Top 5 Symbol:\n",
            "5     GOOG\n",
            "4      HPE\n",
            "10     RHT\n",
            "7     CSCO\n",
            "12    TWTR\n",
            "Name: Symbol, dtype: object\n"
          ]
        }
      ]
    },
    {
      "cell_type": "code",
      "source": [
        "import pandas as pd\n"
      ],
      "metadata": {
        "id": "phcmYkx_ZIYK"
      },
      "execution_count": null,
      "outputs": []
    },
    {
      "cell_type": "code",
      "source": [
        "# Misalnya, data disimpan dalam file CSV dengan nama \"data_saham.csv\"\n",
        "df = pd.read_csv('file stock (2).csv')\n"
      ],
      "metadata": {
        "id": "cImf2aJ3ZNws"
      },
      "execution_count": null,
      "outputs": []
    },
    {
      "cell_type": "code",
      "source": [
        "sorted_data = df.sort_values(by='Annual Yield', ascending=False)\n"
      ],
      "metadata": {
        "id": "0eWA_dH_ZgSc"
      },
      "execution_count": null,
      "outputs": []
    },
    {
      "cell_type": "code",
      "source": [
        "top_7_stocks = sorted_data.head(7)[['Stock Name', 'Symbol']]\n"
      ],
      "metadata": {
        "id": "FgTmxwONZib2"
      },
      "execution_count": null,
      "outputs": []
    },
    {
      "cell_type": "code",
      "source": [
        "print(top_7_stocks)\n"
      ],
      "metadata": {
        "colab": {
          "base_uri": "https://localhost:8080/"
        },
        "id": "-5W1fpvgZuIT",
        "outputId": "d9ebbac6-1d8d-45f0-ea91-e5daf8ec5e90"
      },
      "execution_count": null,
      "outputs": [
        {
          "output_type": "stream",
          "name": "stdout",
          "text": [
            "                   Stock Name Symbol\n",
            "8                    Qualcomm   QCOM\n",
            "7                       Cisco   CSCO\n",
            "6                       Intel   INTC\n",
            "1                   Microsoft   MSFT\n",
            "0                       Apple   AAPL\n",
            "4  Hewlett Packard Enterprice    HPE\n",
            "3                      Oracle   ORCL\n"
          ]
        }
      ]
    }
  ]
}